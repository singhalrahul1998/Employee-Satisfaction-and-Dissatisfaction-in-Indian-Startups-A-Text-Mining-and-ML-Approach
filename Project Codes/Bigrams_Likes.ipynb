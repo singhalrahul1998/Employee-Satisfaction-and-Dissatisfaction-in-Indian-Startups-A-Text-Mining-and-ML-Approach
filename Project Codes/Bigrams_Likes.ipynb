{
 "cells": [
  {
   "cell_type": "code",
   "execution_count": 12,
   "metadata": {},
   "outputs": [],
   "source": [
    "import pandas as pd\n",
    "import re\n",
    "import nltk\n",
    "from nltk.corpus import stopwords\n",
    "from nltk.stem.porter import PorterStemmer\n",
    "from sklearn.feature_extraction.text import CountVectorizer\n",
    "from sklearn.svm import SVC\n",
    "from sklearn.metrics import confusion_matrix"
   ]
  },
  {
   "cell_type": "code",
   "execution_count": 13,
   "metadata": {},
   "outputs": [],
   "source": [
    "dataset = pd.read_csv('Startups-Merged-RatingsNullRemoved-DurationEncodedAsMonths-EmployeeStatusCategorical-Name-WorkSummary-HelpfulCount-ViewsCount-Date-Removed.csv')"
   ]
  },
  {
   "cell_type": "code",
   "execution_count": 14,
   "metadata": {},
   "outputs": [
    {
     "name": "stderr",
     "output_type": "stream",
     "text": [
      "[nltk_data] Downloading package stopwords to\n",
      "[nltk_data]     C:\\Users\\LENOVO\\AppData\\Roaming\\nltk_data...\n",
      "[nltk_data]   Package stopwords is already up-to-date!\n"
     ]
    }
   ],
   "source": [
    "nltk.download('stopwords') \n",
    "corpus = [] \n",
    "ps = PorterStemmer() \n",
    "for i in range(len(dataset)): \n",
    "   \n",
    "   Other_Benefits = re.sub('[^a-zA-Z]', ' ', str(dataset['Other_Benefits'][i])).lower().split()\n",
    "   \n",
    "   Other_Benefits = [ps.stem(word) for word in Other_Benefits if not word in set(stopwords.words('english'))]\n",
    "   \n",
    "   Other_Benefits = ' '.join(Other_Benefits)\n",
    "   \n",
    "   corpus.append(Other_Benefits)"
   ]
  },
  {
   "cell_type": "code",
   "execution_count": 15,
   "metadata": {},
   "outputs": [
    {
     "name": "stdout",
     "output_type": "stream",
     "text": [
      "['full time', 'compani provid', 'provid us', 'us good', 'good facil', 'facil per', 'per sop', 'dont pay', 'pay salari', 'salari day', 'day salari', 'salari flipkart', 'flipkart compani', 'petrol incent', 'free breakfast', 'insur employe', 'employe custom', 'custom stafic', 'esi pf', 'pf ot', 'ot e', 'e c', 'work cultur', 'insan ga', 'ga compani', 'compani work', 'flipkart employe', 'employe get', 'get sort', 'sort facil', 'facil us', 'us consult', 'free beverag', 'beverag like', 'like juic', 'juic type', 'type biscuit', 'biscuit tea', 'tea coffe', 'coffe milk', 'milk time', 'time decent', 'decent good', 'good salari', 'salari packag', 'packag fresher', 'free food', 'food otherwis', 'otherwis benefit', 'benefit futur', 'free food', 'give intens', 'intens train', 'train new', 'new work', 'work ad', 'ad compani', 'indor game', 'progress flipkart', 'flipkart cultur', 'cultur known', 'known employe', 'employe friendli', 'e commerc', 'commerc compni', 'flipkart provid', 'provid game', 'weekli one', 'one day', 'day monday', 'monday conduct', 'conduct activ', 'activ employe', 'employe refresh', 'mention evari', 'evari month', 'month best', 'best formerm', 'formerm month', 'month give', 'give employe', 'everi thing', 'best faculti', 'travel allow', 'allow mobil', 'mobil phone', 'phone allow', 'allow etc', 'medic insur', 'insur famili', 'famili give', 'give opportun', 'opportun everyon', 'everyon staff', 'better offer', 'contract person', 'noth give', 'onlin shop', 'shop compani', 'noth facil', 'facil provid', 'ye benefit', 'benefit knowledg', 'team outing', 'outing provid', 'provid facil', 'team leader', 'offer like', 'like good', 'good work', 'work cultur', 'cultur urban', 'urban area', 'area offic', 'offic healthi', 'healthi insur', 'insur well', 'well interest', 'interest train', 'train free', 'free food', 'food control', 'control tower', 'tower offic', 'offic child', 'child care', 'care polici', 'xnsk see', 'mobil bill', 'pantri lot', 'lot fruit', 'fruit bread', 'bread butter', 'butter jam', 'pantri lot', 'lot fruit', 'fruit bread', 'bread butter', 'butter jam', 'benfit prodect', 'prodect oder', 'oder offer', 'offer discount', 'medic insur', 'job train', 'good chanc', 'chanc learn', 'learn everi', 'everi thing', 'monthli salari', 'salari offer', 'facil provid', 'mani other', 'phone bill', 'bill pay', 'pay compani', 'compani convenc', 'convenc given', 'given compani', 'compani facil', 'facil also', 'also provid', 'provid compani', 'benefit provid', 'provid salari', 'salari work', 'work salari', 'salari year', 'year growth', 'everi thing', 'thing good', 'good compani', 'compani cont', 'cont abl', 'abl say', 'say one', 'one ward', 'readi health', 'health insur', 'insur complet', 'complet join', 'join compani', 'facil roll', 'roll employe', 'hous rent', 'rent allow', 'pf esi', 'esi allow', 'allow given', 'want promot', 'benefit given', 'given compani', 'compani miss', 'miss use', 'use manag', 'fsc fild', 'fild sale', 'sale execut', 'onlin bank', 'health insur', 'mobil bill', 'noth mention', 'mention facil', 'experi field', 'good support', 'sale execut', 'biometr devic', 'recognis public', 'recognis public', 'pf esi', 'team outing', 'provid noth', 'manag motiv', 'motiv hod', 'hod nd', 'nd manag', 'manag manag', 'manag help', 'help learn', 'learn thing', 'mobil bill', 'everyth best', 'everyth best', 'environ eas', 'eas work', 'insent upto', 'ad insur', 'insur offer', 'wallet busi', 'busi bank', 'bank e', 'e commerc', 'field sale', 'sale execut', 'paytm fsc', 'facil provid', 'provid aprt', 'aprt mobil', 'mobil reqbus', 'good offer', 'mobil bill', 'bill travel', 'travel allow', 'allow insor', 'reimburs mobil', 'mobil bill', 'great compani', 'compani good', 'good work', 'field execut', 'work home', 'home locat', 'good invent', 'accident claim', 'good employ', 'bike invest', 'benefit provid', 'provid compani', 'compani roll', 'flexibl work', 'work hour', 'shift allow', 'work cultur', 'mobil allow', 'recharg expens', 'free transport', 'facil provid', 'good atmospher', 'benefit oyo', 'note case', 'case everi', 'everi thing', 'thing goe', 'goe gm', 'gm one', 'one gave', 'gave coup', 'coup instead', 'medi claim', 'bed breakfast', 'part time', 'time incom', 'front offic', 'noth compar', 'good incent', 'incent plan', 'noth even', 'even leav', 'payment term', 'term clear', 'clear receiv', 'receiv given', 'given time', 'time incent', 'incent huge', 'huge learn', 'free food', 'ground staff', 'compani environ', 'environ preeti', 'preeti gud', 'gud manag', 'manag decent', 'decent compani', 'compani ceo', 'ceo mr', 'mr aggarw', 'aggarw great', 'great person', 'good employ', 'employ friendli', 'r r', 'k plu', 'plu travel', 'travel plu', 'plu incent', 'noth provid', 'salari insensit', 'daili go', 'go offic', 'offic time', 'time moosaram', 'moosaram bagh', 'bagh hyderabad', 'provid accocbd', 'accocbd good', 'incent modul', 'wrost compani', 'compani ever', 'colleg extern', 'extern educ', 'educ support', 'benefit work', 'work ground', 'ground label', 'busi train', 'free room', 'highest incent', 'insur use', 'use famili', 'famili train', 'train improv', 'improv knowledg', 'knowledg skill', 'skill system', 'system process', 'good enough', 'per compani', 'compani norm', 'tour treval', 'treval employe', 'employe complet', 'complet target', 'claim facil', 'medic test', 'time limit', 'limit hr', 'everi year', 'year conduct', 'conduct josh', 'josh meet', 'meet india', 'thing good', 'noth free', 'free accomod', 'accomod non', 'non local', 'local employe', 'death coverag', 'non bank', 'bank organ', 'mobil claim', 'claim noth', 'work time', 'home loan', 'make relationship', 'relationship custom', 'residenti offic', 'loan provid', 'noth like', 'dormetri home', 'r given', 'good compani', 'everyth ok', 'hard work', 'work experi', 'risk benefit', 'benefit health', 'health benefit', 'death insur', 'incent polici', 'polici realli', 'realli great', 'annual bonu', 'bonu insur', 'hold work', 'work hard', 'hard type', 'type compani', 'compani gave', 'gave benifit', 'naic job', 'compani better', 'share provid', 'instead health', 'health insur', 'insur benefit', 'good hike', 'home allow', 'celebr festiv', 'pf esi', 'esi card', 'onlin base', 'base transport', 'transport compani', 'compani crate', 'crate global', 'global plat', 'plat form', 'form fleet', 'fleet owner', 'owner transport', 'good salari', 'salari benifit', 'singl facil', 'facil provid', 'provid rivigo', 'facil provid', 'provid job', 'job locat', 'job train', 'train help', 'help job', 'attend adjust', 'adjust misspunch', 'misspunch biometr', 'componi rule', 'rule good', 'good facil', 'facil health', 'health insur', 'good salari', 'hra pf', 'pf esi', 'esi mobil', 'mobil allounc', 'allounc etc', 'u kid', 'kid even', 'even get', 'get time', 'time eat', 'eat ur', 'ur tiffin', 'tiffin n', 'n u', 'u said', 'said free', 'free food', 'food hahahaha', 'hahahaha u', 'u work', 'work home', 'home sunday', 'sunday u', 'u ur', 'ur week', 'week person', 'person life', 'life keep', 'keep mail', 'mail n', 'n attend', 'attend call', 'call sunday', 'salari excel', 'provid hra', 'hra room', 'phone bill', 'bill reimburs', 'noth benefit', 'noth provid', 'esi pf', 'pf give', 'give night', 'night shift', 'shift allow', 'allow also', 'provid best', 'best deliveri', 'deliveri courier', 'courier servic', 'oper work', 'pevid facliti', 'facliti empli', 'empli work', 'madic pf', 'pf esi', 'noth ecom', 'observ job', 'esi epf', 'free transport', 'handl custom', 'custom escal', 'noth facil', 'benfit faclitio', 'long leav', 'leav facil', 'issu leav', 'leav leav', 'leav u', 'u get', 'get adjust', 'adjust staff', 'staff team', 'logist solut', 'health insur', 'couriour servis', 'staff live', 'live hous', 'logist servic', 'good career', 'courier cargo', 'improv growth', 'field bachend', 'home town', 'town posit', 'work natur', 'natur fantast', 'line shop', 'shop courier', 'hub incharg', 'benefit r', 'r done', 'dalari time', 'dbf good', 'good support', 'support famili', 'famili leav', 'leav behind', 'behind incas', 'incas misshappen', 'hr fair', 'good knowledg', 'noth like', 'like facil', 'onlin shop', 'bill jenin', 'jenin bill', 'bill mind', 'new postion', 'postion delhiveri', 'good salari', 'facil provid', 'team lead', 'esic benefit', 'team work', 'provid anyth', 'bonus incent', 'incent promot', 'promot skill', 'skill basi', 'basi knowledg', 'knowledg salari', 'salari increment', 'increment everi', 'everi month', 'good fesil', 'kind thing', 'thing provid', 'provid deliveri', 'motiv class', 'class technic', 'best onlin', 'onlin industri', 'learn e', 'e commerc', 'commerc compani', 'health insur', 'e commerc', 'commerc logist', 'logist suppli', 'suppli chain', 'chain provid', 'compani provid', 'provid type', 'type facilit', 'last mile', 'team gather', 'gather birthday', 'birthday celebr', 'build carrier', 'non facil', 'pl understand', 'understand employe', 'employe say', 'join delhiveri', 'mani thhing', 'logist compay', 'compay manag', 'manag dc', 'dc oper', 'provid facil', 'facil work', 'job ling', 'ling offic', 'offic atl', 'atl vacanc', 'vacanc search', 'search job', 'grand coriear', 'mani banifit', 'peopl left', 'left ani', 'ani technolog', 'technolog recuit', 'recuit peopl', 'transport mediat', 'free water', 'get offer', 'offer ola', 'ola cab', 'flexibl work', 'work time', 'time playtim', 'playtim bookshelf', 'bookshelf mani', 'mani specif', 'specif thing', 'thing love', 'love olacab', 'earli morn', 'morn work', 'work allownc', 'allownc monthli', 'monthli incent', 'oop sorri', 'sorri tell', 'tell compani', 'compani go', 'go provid', 'provid kind', 'kind facil', 'facil apart', 'apart work', 'work load', 'load work', 'work load', 'load mean', 'mean depart', 'depart need', 'need go', 'go field', 'field market', 'take call', 'call custom', 'custom care', 'care partner', 'partner care', 'good comput', 'comput oper', 'oper compani', 'compani job', 'fresher good', 'good compani', 'six sigma', 'sigma cors', 'ola outstat', 'mani benefit', 'noth benefit', 'benefit took', 'took got', 'got salari', 'salari time', 'travel allow', 'noth given', 'given compani', 'ta da', 'da mobil', 'mobil allow', 'salari increment', 'onion shope', 'free thing', 'friendli envior', 'noth mental', 'mental tension', 'microfin financi', 'financi institut', 'make onrol', 'onlin sale', 'sale b', 'b b', 'b sale', 'futur growth', 'collect fill', 'tada expens', 'good increment', 'petrol convenc', 'busi busi', 'busi mani', 'mani categori', 'noth provid', 'provid give', 'give pressur', 'get allow', 'allow incent', 'incent apart', 'apart ctc', 'compani give', 'give salari', 'salari time', 'percent increment', 'increment everi', 'everi year', 'experi good', 'good promot', 'b b', 'b e', 'e commerc', 'commerc market', 'noth provid', 'travel allow', 'serv door', 'door door', 'tour market', 'market decis', 'decis employ', 'daili allownc', 'ticket year', 'compani also', 'also give', 'give anoth', 'anoth post', 'post who', 'who deliveri', 'deliveri person', 'person big', 'big basket', 'basket give', 'give promot', 'promot work', 'work sincer', 'health care', 'care soft', 'soft skill', 'skill train', 'lot facil', 'facil bigbasket', 'bigbasket ho', 'ho senior', 'senior tough', 'tough problem', 'problem solv', 'solv thing', 'annual incent', 'incent perform', 'perform basi', 'help financi', 'financi support', 'noth given', 'sorri say', 'say develop', 'develop skill', 'skill period', 'period ramesh', 'ramesh sir', 'sir manag', 'manag went', 'went chennai', 'chennai dc', 'dc develop', 'develop knowledg', 'leav time', 'time approv', 'good groceri', 'groceri product', 'health insur', 'good work', 'work environ', 'revis good', 'comfort job', 'good compani', 'employe safeti', 'give insur', 'insur amount', 'amount redus', 'redus salari', 'salari still', 'still card', 'card get', 'travel convey', 'telecom servic', 'learn program', 'arrang program', 'program free', 'free food', 'food occas', 'safti train', 'work life', 'life balanc', 'none facil', 'pf esi', 'soft skill', 'skill train', 'noth free', 'nit facil', 'facil provid', 'provid cm', 'cm rather', 'leav facil', 'top level', 'level peopl', 'peopl come', 'come watch', 'pay ta', 'ta da', 'da travel', 'travel town', 'cash knowedg', 'knowedg excel', 'benefit provid', 'festiv gift', 'manag involv', 'noth list', 'mani benefit', 'benefit compani', 'compani give', 'though dep', 'dep incent', 'incent good', 'good enjoy', 'enjoy work', 'noth option', 'noth provid', 'support manag', 'benefit incent', 'type facil', 'facil provid', 'provid polici', 'polici bazaar', 'noth offer', 'offer list', 'list except', 'except free', 'free cab', 'cab night', 'night shift', 'team lunch', 'lunch fun', 'fun work', 'work feed', 'feed famili', 'mani like', 'like incent', 'incent team', 'team outing', 'outing cultural', 'cultural celebr', 'celebr ect', 'good support', 'fun work', 'work entertain', 'entertain love', 'job train', 'train soft', 'soft skill', 'skill train', 'work burden', 'burden less', 'salari benefit', 'food deliveri', 'food deliv', 'deliv home', 'team dinner', 'dinner parti', 'sodexo coupon', 'coupon snack', 'snack everi', 'everi month', 'month buffet', 'buffet parti', 'parti resto', 'resto bar', 'bar etc', 'overal good', 'indoor game', 'give us', 'us work', 'work less', 'less ad', 'ad earn', 'amway parti', 'weakli payment', 'muje apk', 'apk hade', 'hade se', 'se mil', 'mil na', 'startup compani', 'compani last', 'last four', 'four year', 'year maintain', 'maintain well', 'parti employe', 'employe refresh', 'provid huge', 'huge support', 'support employe', 'travel allow', 'cab facil', 'doubl pay', 'pay holiday', 'holiday work', 'learn new', 'new wireless', 'wireless technolog', 'facil given', 'given tikona', 'paid leav', 'sd engin', 'facil proper', 'proper train', 'train proper', 'proper salari', 'facil provid', 'provid tikona', 'tikona digit', 'digit network', 'give acomd', 'team member', 'internet servic', 'servic provid', 'long life', 'salari increas', 'success parti', 'provid fresh', 'fresh food', 'free drop', 'drop pickup', 'pickup facil', 'team outing', 'provid leav', 'leav alway', 'alway need', 'need sithuat', 'almost facil', 'good life', 'sale incent', 'incent noth', 'noth provid', 'provid byju', 'give gift', 'gift everi', 'everi month', 'money world', 'world tour', 'tour top', 'top bda', 'competet class', 'nill benefit', 'noth provid', 'provid facil', 'facil staff', 'staff staff', 'staff work', 'work like', 'like robot', 'travel reimburs', 'free transport', 'transport free', 'free food', 'eye test', 'test contact', 'contact lens', 'lens sunglass', 'sunglass eyeglass', 'eyeglass etc', 'root beheviour', 'beheviour team', 'team leader', 'deduct money', 'money salari', 'perk perk', 'perk everywher', 'given option', 'option avail', 'avail role', 'role employe', 'work almost', 'almost hour', 'hour day', 'day without', 'without fix', 'fix week', 'good qualiti', 'qualiti grocri', 'compani make', 'make everi', 'everi person', 'person strong', 'facil provid', 'grow groom', 'bonou incom', 'grofer contact', 'benefit provid', 'provid grofer', 'convenc money', 'money pf', 'pf deduct', 'deduct insur', 'time salari', 'facil provid', 'grofer provid', 'provid facil', 'hike salari', 'salari previou', 'previou salari', 'career growth', 'feel well', 'well work', 'work home', 'free accommod', 'famili support', 'ta da', 'da first', 'first invest', 'invest get', 'get back', 'free guest', 'guest hous', 'get money', 'money first', 'first marriag', 'marriag time', 'time time', 'time first', 'first son', 'diwali bonu', 'bonu provid', 'noth provid', 'none benefit', 'benefit provid', 'noth without', 'without salari', 'celebr occas', 'occas like', 'like holi', 'holi puja', 'puja new', 'new year', 'morn tea', 'pressur self', 'self satisfact', 'good allow', 'come polit', 'bill person', 'vehicl loan', 'loan life', 'life insur', 'benefit given', 'given employe', 'provid lunch', 'lunch train', 'train regard', 'regard process', 'noth els', 'esi pf', 'compani provid', 'provid anoth', 'anoth rupe', 'rupe enmploye', 'enmploye good', 'good natur', 'natur manag', 'pf esic', 'esic insur', 'absolut noth', 'mental stress', 'stress free', 'free bp', 'bp heart', 'heart stroke', 'stroke transport', 'transport team', 'team outing', 'outing look', 'look like', 'like organis', 'organis rather', 'rather look', 'look institut', 'institut ameerpet', 'perk benefit', 'faculti hire', 'hire compani', 'compani join', 'join school', 'school compani', 'compani employe', 'alway month', 'month parti', 'parti enjoy', 'good time', 'time almost', 'almost everyday', 'everyday want', 'provid better', 'better system', 'system work', 'medic allow', 'allow telephon', 'telephon allow', 'extra allow', 'allow day', 'day work', 'work flexibl', 'flexibl shift', 'shift super', 'super manag', 'manag great', 'great work', 'work environ', 'environ exrra', 'exrra perk', 'perk extra', 'extra holiday', 'holiday job', 'job satisfact', 'job train', 'babaji ki', 'ki thullu', 'spot contest', 'variou indoor', 'indoor outdoor', 'outdoor sport', 'sport event', 'event conduct', 'per per', 'per compani', 'compani polici', 'improv person', 'pf esic', 'esic also', 'also avail', 'petrol mobil', 'mobil expens', 'perk avail', 'avail travel', 'travel expens', 'expens also', 'also given', 'given co', 'co last', 'last month', 'noth provid', 'benefit disclos', 'incent insur', 'insur contest', 'type facil', 'facil provid', 'best bank', 'bank experi', 'best servic', 'medic facilit', 'facilit life', 'life cover', 'cover insur', 'guest hous', 'hous provid', 'provid rest', 'rest zero', 'k pm', 'best incent', 'noth provid', 'provid free', 'give facil', 'job train', 'train month', 'month told', 'told foolish', 'foolish reason', 'reason termin', 'termin employe', 'employe withount', 'withount notic', 'go nativ', 'nativ place', 'place day', 'day compani', 'compani issu', 'noth provid', 'noth mention', 'mention facil', 'facil avail', 'facil provid', 'provid medlif', 'compani believ', 'offic time', 'job train', 'cultur program', 'skill devlop', 'hard work', 'noth els', 'microfin bank', 'free gest', 'gest hous', 'credit manag', 'time salari', 'free work', 'work load', 'load pressur', 'facil pathet', 'pathet peopl', 'peopl facil', 'petrol laptop', 'need improv', 'nice compani', 'compani facil', 'like run', 'run earn', 'earn sell', 'sell take', 'take incent']\n"
     ]
    }
   ],
   "source": [
    "two_words = []\n",
    "for i in range(len(corpus)):\n",
    "    list = corpus[i].split()\n",
    "    for j in range(len(list)-1):\n",
    "        two_words.append(list[j]+' '+list[j+1])\n",
    "        \n",
    "print(two_words)"
   ]
  },
  {
   "cell_type": "code",
   "execution_count": 16,
   "metadata": {},
   "outputs": [
    {
     "name": "stdout",
     "output_type": "stream",
     "text": [
      "[('facil provid', 14), ('noth provid', 11), ('free food', 7), ('health insur', 7), ('job train', 6), ('pf esi', 6), ('e commerc', 5), ('travel allow', 5), ('team outing', 5), ('mobil bill', 5), ('benefit provid', 5), ('good salari', 4), ('everi thing', 4), ('provid facil', 4), ('good compani', 4), ('compani provid', 3), ('esi pf', 3), ('work cultur', 3), ('good work', 3), ('given compani', 3), ('sale execut', 3), ('good support', 3), ('work home', 3), ('free transport', 3), ('everi month', 3), ('work load', 3), ('ta da', 3), ('soft skill', 3), ('skill train', 3), ('good facil', 2)]\n"
     ]
    }
   ],
   "source": [
    "from collections import Counter\n",
    "Counter = Counter(two_words)\n",
    "most_occur = Counter.most_common(30)\n",
    "print(most_occur)"
   ]
  },
  {
   "cell_type": "code",
   "execution_count": null,
   "metadata": {},
   "outputs": [],
   "source": []
  },
  {
   "cell_type": "code",
   "execution_count": null,
   "metadata": {},
   "outputs": [],
   "source": []
  }
 ],
 "metadata": {
  "kernelspec": {
   "display_name": "Python 3",
   "language": "python",
   "name": "python3"
  },
  "language_info": {
   "codemirror_mode": {
    "name": "ipython",
    "version": 3
   },
   "file_extension": ".py",
   "mimetype": "text/x-python",
   "name": "python",
   "nbconvert_exporter": "python",
   "pygments_lexer": "ipython3",
   "version": "3.7.6"
  }
 },
 "nbformat": 4,
 "nbformat_minor": 4
}
