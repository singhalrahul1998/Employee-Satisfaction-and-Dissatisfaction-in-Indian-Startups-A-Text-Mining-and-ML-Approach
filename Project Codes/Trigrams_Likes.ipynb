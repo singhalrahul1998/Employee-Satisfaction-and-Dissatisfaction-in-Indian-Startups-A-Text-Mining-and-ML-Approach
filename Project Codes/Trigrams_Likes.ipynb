{
 "cells": [
  {
   "cell_type": "code",
   "execution_count": 12,
   "metadata": {},
   "outputs": [],
   "source": [
    "import pandas as pd\n",
    "import re\n",
    "import nltk\n",
    "from nltk.corpus import stopwords\n",
    "from nltk.stem.porter import PorterStemmer\n",
    "from sklearn.feature_extraction.text import CountVectorizer\n",
    "from sklearn.svm import SVC\n",
    "from sklearn.metrics import confusion_matrix"
   ]
  },
  {
   "cell_type": "code",
   "execution_count": 13,
   "metadata": {},
   "outputs": [],
   "source": [
    "dataset = pd.read_csv('Startups-Merged-RatingsNullRemoved-DurationEncodedAsMonths-EmployeeStatusCategorical-Name-WorkSummary-HelpfulCount-ViewsCount-Date-Removed.csv')"
   ]
  },
  {
   "cell_type": "code",
   "execution_count": 14,
   "metadata": {},
   "outputs": [
    {
     "name": "stderr",
     "output_type": "stream",
     "text": [
      "[nltk_data] Downloading package stopwords to\n",
      "[nltk_data]     C:\\Users\\LENOVO\\AppData\\Roaming\\nltk_data...\n",
      "[nltk_data]   Package stopwords is already up-to-date!\n"
     ]
    }
   ],
   "source": [
    "nltk.download('stopwords') \n",
    "corpus = [] \n",
    "ps = PorterStemmer() \n",
    "for i in range(len(dataset)): \n",
    "   \n",
    "   Other_Benefits = re.sub('[^a-zA-Z]', ' ', str(dataset['Other_Benefits'][i])).lower().split()\n",
    "   \n",
    "   Other_Benefits = [ps.stem(word) for word in Other_Benefits if not word in set(stopwords.words('english'))]\n",
    "   \n",
    "   Other_Benefits = ' '.join(Other_Benefits)\n",
    "   \n",
    "   corpus.append(Other_Benefits)"
   ]
  },
  {
   "cell_type": "code",
   "execution_count": 15,
   "metadata": {},
   "outputs": [
    {
     "name": "stdout",
     "output_type": "stream",
     "text": [
      "['compani provid us', 'provid us good', 'us good facil', 'good facil per', 'facil per sop', 'dont pay salari', 'pay salari day', 'salari day salari', 'day salari flipkart', 'salari flipkart compani', 'insur employe custom', 'employe custom stafic', 'esi pf ot', 'pf ot e', 'ot e c', 'insan ga compani', 'ga compani work', 'flipkart employe get', 'employe get sort', 'get sort facil', 'sort facil us', 'facil us consult', 'free beverag like', 'beverag like juic', 'like juic type', 'juic type biscuit', 'type biscuit tea', 'biscuit tea coffe', 'tea coffe milk', 'coffe milk time', 'milk time decent', 'time decent good', 'decent good salari', 'good salari packag', 'salari packag fresher', 'free food otherwis', 'food otherwis benefit', 'otherwis benefit futur', 'give intens train', 'intens train new', 'train new work', 'new work ad', 'work ad compani', 'flipkart cultur known', 'cultur known employe', 'known employe friendli', 'e commerc compni', 'flipkart provid game', 'weekli one day', 'one day monday', 'day monday conduct', 'monday conduct activ', 'conduct activ employe', 'activ employe refresh', 'mention evari month', 'evari month best', 'month best formerm', 'best formerm month', 'formerm month give', 'month give employe', 'travel allow mobil', 'allow mobil phone', 'mobil phone allow', 'phone allow etc', 'medic insur famili', 'insur famili give', 'famili give opportun', 'give opportun everyon', 'opportun everyon staff', 'onlin shop compani', 'noth facil provid', 'ye benefit knowledg', 'team outing provid', 'outing provid facil', 'offer like good', 'like good work', 'good work cultur', 'work cultur urban', 'cultur urban area', 'urban area offic', 'area offic healthi', 'offic healthi insur', 'healthi insur well', 'insur well interest', 'well interest train', 'interest train free', 'train free food', 'free food control', 'food control tower', 'control tower offic', 'tower offic child', 'offic child care', 'child care polici', 'pantri lot fruit', 'lot fruit bread', 'fruit bread butter', 'bread butter jam', 'pantri lot fruit', 'lot fruit bread', 'fruit bread butter', 'bread butter jam', 'benfit prodect oder', 'prodect oder offer', 'oder offer discount', 'good chanc learn', 'chanc learn everi', 'learn everi thing', 'monthli salari offer', 'phone bill pay', 'bill pay compani', 'pay compani convenc', 'compani convenc given', 'convenc given compani', 'given compani facil', 'compani facil also', 'facil also provid', 'also provid compani', 'benefit provid salari', 'provid salari work', 'salari work salari', 'work salari year', 'salari year growth', 'everi thing good', 'thing good compani', 'good compani cont', 'compani cont abl', 'cont abl say', 'abl say one', 'say one ward', 'readi health insur', 'health insur complet', 'insur complet join', 'complet join compani', 'facil roll employe', 'hous rent allow', 'pf esi allow', 'esi allow given', 'benefit given compani', 'given compani miss', 'compani miss use', 'miss use manag', 'fsc fild sale', 'fild sale execut', 'noth mention facil', 'manag motiv hod', 'motiv hod nd', 'hod nd manag', 'nd manag manag', 'manag manag help', 'manag help learn', 'help learn thing', 'environ eas work', 'ad insur offer', 'wallet busi bank', 'busi bank e', 'bank e commerc', 'field sale execut', 'facil provid aprt', 'provid aprt mobil', 'aprt mobil reqbus', 'mobil bill travel', 'bill travel allow', 'travel allow insor', 'reimburs mobil bill', 'great compani good', 'compani good work', 'work home locat', 'benefit provid compani', 'provid compani roll', 'flexibl work hour', 'note case everi', 'case everi thing', 'everi thing goe', 'thing goe gm', 'goe gm one', 'gm one gave', 'one gave coup', 'gave coup instead', 'part time incom', 'good incent plan', 'noth even leav', 'payment term clear', 'term clear receiv', 'clear receiv given', 'receiv given time', 'given time incent', 'time incent huge', 'incent huge learn', 'compani environ preeti', 'environ preeti gud', 'preeti gud manag', 'gud manag decent', 'manag decent compani', 'decent compani ceo', 'compani ceo mr', 'ceo mr aggarw', 'mr aggarw great', 'aggarw great person', 'good employ friendli', 'k plu travel', 'plu travel plu', 'travel plu incent', 'daili go offic', 'go offic time', 'offic time moosaram', 'time moosaram bagh', 'moosaram bagh hyderabad', 'provid accocbd good', 'wrost compani ever', 'colleg extern educ', 'extern educ support', 'benefit work ground', 'work ground label', 'insur use famili', 'use famili train', 'famili train improv', 'train improv knowledg', 'improv knowledg skill', 'knowledg skill system', 'skill system process', 'per compani norm', 'tour treval employe', 'treval employe complet', 'employe complet target', 'time limit hr', 'everi year conduct', 'year conduct josh', 'conduct josh meet', 'josh meet india', 'free accomod non', 'accomod non local', 'non local employe', 'non bank organ', 'mobil claim noth', 'make relationship custom', 'hard work experi', 'risk benefit health', 'benefit health benefit', 'incent polici realli', 'polici realli great', 'annual bonu insur', 'hold work hard', 'work hard type', 'hard type compani', 'type compani gave', 'compani gave benifit', 'instead health insur', 'health insur benefit', 'pf esi card', 'onlin base transport', 'base transport compani', 'transport compani crate', 'compani crate global', 'crate global plat', 'global plat form', 'plat form fleet', 'form fleet owner', 'fleet owner transport', 'good salari benifit', 'singl facil provid', 'facil provid rivigo', 'facil provid job', 'provid job locat', 'job train help', 'train help job', 'attend adjust misspunch', 'adjust misspunch biometr', 'componi rule good', 'rule good facil', 'good facil health', 'facil health insur', 'hra pf esi', 'pf esi mobil', 'esi mobil allounc', 'mobil allounc etc', 'u kid even', 'kid even get', 'even get time', 'get time eat', 'time eat ur', 'eat ur tiffin', 'ur tiffin n', 'tiffin n u', 'n u said', 'u said free', 'said free food', 'free food hahahaha', 'food hahahaha u', 'hahahaha u work', 'u work home', 'work home sunday', 'home sunday u', 'sunday u ur', 'u ur week', 'ur week person', 'week person life', 'person life keep', 'life keep mail', 'keep mail n', 'mail n attend', 'n attend call', 'attend call sunday', 'provid hra room', 'phone bill reimburs', 'esi pf give', 'pf give night', 'give night shift', 'night shift allow', 'shift allow also', 'provid best deliveri', 'best deliveri courier', 'deliveri courier servic', 'pevid facliti empli', 'facliti empli work', 'madic pf esi', 'handl custom escal', 'long leav facil', 'issu leav leav', 'leav leav u', 'leav u get', 'u get adjust', 'get adjust staff', 'adjust staff team', 'staff live hous', 'home town posit', 'work natur fantast', 'line shop courier', 'benefit r done', 'dbf good support', 'good support famili', 'support famili leav', 'famili leav behind', 'leav behind incas', 'behind incas misshappen', 'noth like facil', 'bill jenin bill', 'jenin bill mind', 'new postion delhiveri', 'bonus incent promot', 'incent promot skill', 'promot skill basi', 'skill basi knowledg', 'basi knowledg salari', 'knowledg salari increment', 'salari increment everi', 'increment everi month', 'kind thing provid', 'thing provid deliveri', 'motiv class technic', 'best onlin industri', 'learn e commerc', 'e commerc compani', 'e commerc logist', 'commerc logist suppli', 'logist suppli chain', 'suppli chain provid', 'compani provid type', 'provid type facilit', 'team gather birthday', 'gather birthday celebr', 'pl understand employe', 'understand employe say', 'logist compay manag', 'compay manag dc', 'manag dc oper', 'provid facil work', 'job ling offic', 'ling offic atl', 'offic atl vacanc', 'atl vacanc search', 'vacanc search job', 'peopl left ani', 'left ani technolog', 'ani technolog recuit', 'technolog recuit peopl', 'get offer ola', 'offer ola cab', 'flexibl work time', 'work time playtim', 'time playtim bookshelf', 'playtim bookshelf mani', 'bookshelf mani specif', 'mani specif thing', 'specif thing love', 'thing love olacab', 'earli morn work', 'morn work allownc', 'work allownc monthli', 'allownc monthli incent', 'oop sorri tell', 'sorri tell compani', 'tell compani go', 'compani go provid', 'go provid kind', 'provid kind facil', 'kind facil apart', 'facil apart work', 'apart work load', 'work load work', 'load work load', 'work load mean', 'load mean depart', 'mean depart need', 'depart need go', 'need go field', 'go field market', 'take call custom', 'call custom care', 'custom care partner', 'care partner care', 'good comput oper', 'comput oper compani', 'oper compani job', 'fresher good compani', 'six sigma cors', 'noth benefit took', 'benefit took got', 'took got salari', 'got salari time', 'noth given compani', 'ta da mobil', 'da mobil allow', 'noth mental tension', 'microfin financi institut', 'onlin sale b', 'sale b b', 'b b sale', 'busi busi mani', 'busi mani categori', 'noth provid give', 'provid give pressur', 'get allow incent', 'allow incent apart', 'incent apart ctc', 'compani give salari', 'give salari time', 'percent increment everi', 'increment everi year', 'experi good promot', 'b b e', 'b e commerc', 'e commerc market', 'serv door door', 'tour market decis', 'market decis employ', 'compani also give', 'also give anoth', 'give anoth post', 'anoth post who', 'post who deliveri', 'who deliveri person', 'deliveri person big', 'person big basket', 'big basket give', 'basket give promot', 'give promot work', 'promot work sincer', 'health care soft', 'care soft skill', 'soft skill train', 'lot facil bigbasket', 'facil bigbasket ho', 'bigbasket ho senior', 'ho senior tough', 'senior tough problem', 'tough problem solv', 'problem solv thing', 'annual incent perform', 'incent perform basi', 'help financi support', 'sorri say develop', 'say develop skill', 'develop skill period', 'skill period ramesh', 'period ramesh sir', 'ramesh sir manag', 'sir manag went', 'manag went chennai', 'went chennai dc', 'chennai dc develop', 'dc develop knowledg', 'leav time approv', 'good groceri product', 'good work environ', 'give insur amount', 'insur amount redus', 'amount redus salari', 'redus salari still', 'salari still card', 'still card get', 'arrang program free', 'program free food', 'free food occas', 'work life balanc', 'soft skill train', 'nit facil provid', 'facil provid cm', 'provid cm rather', 'top level peopl', 'level peopl come', 'peopl come watch', 'pay ta da', 'ta da travel', 'da travel town', 'cash knowedg excel', 'mani benefit compani', 'benefit compani give', 'though dep incent', 'dep incent good', 'incent good enjoy', 'good enjoy work', 'type facil provid', 'facil provid polici', 'provid polici bazaar', 'noth offer list', 'offer list except', 'list except free', 'except free cab', 'free cab night', 'cab night shift', 'team lunch fun', 'lunch fun work', 'work feed famili', 'mani like incent', 'like incent team', 'incent team outing', 'team outing cultural', 'outing cultural celebr', 'cultural celebr ect', 'fun work entertain', 'work entertain love', 'job train soft', 'train soft skill', 'soft skill train', 'work burden less', 'food deliv home', 'team dinner parti', 'sodexo coupon snack', 'coupon snack everi', 'snack everi month', 'everi month buffet', 'month buffet parti', 'buffet parti resto', 'parti resto bar', 'resto bar etc', 'give us work', 'us work less', 'work less ad', 'less ad earn', 'muje apk hade', 'apk hade se', 'hade se mil', 'se mil na', 'startup compani last', 'compani last four', 'last four year', 'four year maintain', 'year maintain well', 'parti employe refresh', 'provid huge support', 'huge support employe', 'doubl pay holiday', 'pay holiday work', 'learn new wireless', 'new wireless technolog', 'facil given tikona', 'facil proper train', 'proper train proper', 'train proper salari', 'facil provid tikona', 'provid tikona digit', 'tikona digit network', 'internet servic provid', 'provid fresh food', 'free drop pickup', 'drop pickup facil', 'provid leav alway', 'leav alway need', 'alway need sithuat', 'sale incent noth', 'noth provid byju', 'give gift everi', 'gift everi month', 'money world tour', 'world tour top', 'tour top bda', 'noth provid facil', 'provid facil staff', 'facil staff staff', 'staff staff work', 'staff work like', 'work like robot', 'free transport free', 'transport free food', 'eye test contact', 'test contact lens', 'contact lens sunglass', 'lens sunglass eyeglass', 'sunglass eyeglass etc', 'root beheviour team', 'beheviour team leader', 'deduct money salari', 'perk perk everywher', 'given option avail', 'option avail role', 'avail role employe', 'work almost hour', 'almost hour day', 'hour day without', 'day without fix', 'without fix week', 'good qualiti grocri', 'compani make everi', 'make everi person', 'everi person strong', 'benefit provid grofer', 'convenc money pf', 'money pf deduct', 'pf deduct insur', 'grofer provid facil', 'hike salari previou', 'salari previou salari', 'feel well work', 'well work home', 'ta da first', 'da first invest', 'first invest get', 'invest get back', 'free guest hous', 'get money first', 'money first marriag', 'first marriag time', 'marriag time time', 'time time first', 'time first son', 'diwali bonu provid', 'none benefit provid', 'noth without salari', 'celebr occas like', 'occas like holi', 'like holi puja', 'holi puja new', 'puja new year', 'pressur self satisfact', 'vehicl loan life', 'loan life insur', 'benefit given employe', 'provid lunch train', 'lunch train regard', 'train regard process', 'compani provid anoth', 'provid anoth rupe', 'anoth rupe enmploye', 'rupe enmploye good', 'enmploye good natur', 'good natur manag', 'pf esic insur', 'mental stress free', 'stress free bp', 'free bp heart', 'bp heart stroke', 'heart stroke transport', 'stroke transport team', 'transport team outing', 'team outing look', 'outing look like', 'look like organis', 'like organis rather', 'organis rather look', 'rather look institut', 'look institut ameerpet', 'faculti hire compani', 'hire compani join', 'compani join school', 'join school compani', 'school compani employe', 'alway month parti', 'month parti enjoy', 'good time almost', 'time almost everyday', 'almost everyday want', 'provid better system', 'better system work', 'medic allow telephon', 'allow telephon allow', 'extra allow day', 'allow day work', 'day work flexibl', 'work flexibl shift', 'flexibl shift super', 'shift super manag', 'super manag great', 'manag great work', 'great work environ', 'work environ exrra', 'environ exrra perk', 'exrra perk extra', 'perk extra holiday', 'extra holiday job', 'holiday job satisfact', 'babaji ki thullu', 'variou indoor outdoor', 'indoor outdoor sport', 'outdoor sport event', 'sport event conduct', 'per per compani', 'per compani polici', 'pf esic also', 'esic also avail', 'petrol mobil expens', 'perk avail travel', 'avail travel expens', 'travel expens also', 'expens also given', 'also given co', 'given co last', 'co last month', 'incent insur contest', 'type facil provid', 'best bank experi', 'medic facilit life', 'facilit life cover', 'life cover insur', 'guest hous provid', 'hous provid rest', 'provid rest zero', 'noth provid free', 'job train month', 'train month told', 'month told foolish', 'told foolish reason', 'foolish reason termin', 'reason termin employe', 'termin employe withount', 'employe withount notic', 'go nativ place', 'nativ place day', 'place day compani', 'day compani issu', 'noth mention facil', 'facil provid medlif', 'free gest hous', 'free work load', 'work load pressur', 'facil pathet peopl', 'pathet peopl facil', 'nice compani facil', 'like run earn', 'run earn sell', 'earn sell take', 'sell take incent']\n"
     ]
    }
   ],
   "source": [
    "three_words = []\n",
    "for i in range(len(corpus)):\n",
    "    list = corpus[i].split()\n",
    "    for j in range(len(list)-2):\n",
    "        three_words.append(list[j]+' '+list[j+1]+' '+list[j+2])\n",
    "        \n",
    "print(three_words)"
   ]
  },
  {
   "cell_type": "code",
   "execution_count": 16,
   "metadata": {},
   "outputs": [
    {
     "name": "stdout",
     "output_type": "stream",
     "text": [
      "[('soft skill train', 3), ('pantri lot fruit', 2), ('lot fruit bread', 2), ('fruit bread butter', 2), ('bread butter jam', 2), ('noth mention facil', 2), ('type facil provid', 2), ('compani provid us', 1), ('provid us good', 1), ('us good facil', 1), ('good facil per', 1), ('facil per sop', 1), ('dont pay salari', 1), ('pay salari day', 1), ('salari day salari', 1), ('day salari flipkart', 1), ('salari flipkart compani', 1), ('insur employe custom', 1), ('employe custom stafic', 1), ('esi pf ot', 1), ('pf ot e', 1), ('ot e c', 1), ('insan ga compani', 1), ('ga compani work', 1), ('flipkart employe get', 1), ('employe get sort', 1), ('get sort facil', 1), ('sort facil us', 1), ('facil us consult', 1), ('free beverag like', 1)]\n"
     ]
    }
   ],
   "source": [
    "from collections import Counter\n",
    "Counter = Counter(three_words)\n",
    "most_occur = Counter.most_common(30)\n",
    "print(most_occur)"
   ]
  },
  {
   "cell_type": "code",
   "execution_count": null,
   "metadata": {},
   "outputs": [],
   "source": []
  }
 ],
 "metadata": {
  "kernelspec": {
   "display_name": "Python 3",
   "language": "python",
   "name": "python3"
  },
  "language_info": {
   "codemirror_mode": {
    "name": "ipython",
    "version": 3
   },
   "file_extension": ".py",
   "mimetype": "text/x-python",
   "name": "python",
   "nbconvert_exporter": "python",
   "pygments_lexer": "ipython3",
   "version": "3.7.6"
  }
 },
 "nbformat": 4,
 "nbformat_minor": 4
}
